{
 "cells": [
  {
   "cell_type": "markdown",
   "metadata": {},
   "source": [
    "# Importing necessary libraries"
   ]
  },
  {
   "cell_type": "code",
   "execution_count": 5,
   "metadata": {},
   "outputs": [],
   "source": [
    "import pandas as pd\n",
    "from sklearn.metrics.pairwise import cosine_similarity\n",
    "from sklearn.preprocessing import StandardScaler"
   ]
  },
  {
   "cell_type": "markdown",
   "metadata": {},
   "source": [
    "# Loading and merging the datasets"
   ]
  },
  {
   "cell_type": "code",
   "execution_count": 6,
   "metadata": {},
   "outputs": [],
   "source": [
    "transactions_path = 'Transactions (1).csv'\n",
    "products_path = 'Products.csv'\n",
    "customers_path = 'Customers.csv'\n",
    "\n",
    "transactions_df = pd.read_csv(transactions_path)\n",
    "products_df = pd.read_csv(products_path)\n",
    "customers_df = pd.read_csv(customers_path)\n",
    "\n",
    "# Merge datasets for unified analysis\n",
    "merged_df = transactions_df.merge(products_df, on='ProductID').merge(customers_df, on='CustomerID')"
   ]
  },
  {
   "cell_type": "markdown",
   "metadata": {},
   "source": [
    "# Applying Feature Engineering"
   ]
  },
  {
   "cell_type": "code",
   "execution_count": 7,
   "metadata": {},
   "outputs": [],
   "source": [
    "customer_features = merged_df.groupby('CustomerID').agg({\n",
    "    'TotalValue': 'sum',  # Total revenue per customer\n",
    "    'Quantity': 'sum',    # Total quantity purchased\n",
    "    'Category': lambda x: x.value_counts().index[0],  # Most purchased category\n",
    "    'Price_x': 'mean',      # Average price of products bought\n",
    "}).reset_index()"
   ]
  },
  {
   "cell_type": "markdown",
   "metadata": {},
   "source": [
    "# Applying one-hot encoding for categorical features"
   ]
  },
  {
   "cell_type": "code",
   "execution_count": 8,
   "metadata": {},
   "outputs": [],
   "source": [
    "customer_features = pd.get_dummies(customer_features, columns=['Category'])\n",
    "\n",
    "# Standardize the features for similarity calculation\n",
    "scaler = StandardScaler()\n",
    "customer_data_scaled = scaler.fit_transform(customer_features.drop('CustomerID', axis=1))\n",
    "\n",
    "# Calculate cosine similarity\n",
    "similarity_matrix = cosine_similarity(customer_data_scaled)\n",
    "\n",
    "# Create lookalike recommendations for first 20 customers\n",
    "lookalikes = {}\n",
    "customer_ids = customer_features['CustomerID'].values\n",
    "\n",
    "for i, customer_id in enumerate(customer_ids[:20]):\n",
    "    # Get similarity scores for this customer\n",
    "    similarity_scores = list(enumerate(similarity_matrix[i]))\n",
    "    # Sort by similarity score in descending order, exclude self (score = 1.0)\n",
    "    sorted_scores = sorted(similarity_scores, key=lambda x: x[1], reverse=True)\n",
    "    top_3 = [(customer_ids[idx], round(score, 2)) for idx, score in sorted_scores[1:4]]  # Top 3 similar customers\n",
    "    lookalikes[customer_id] = top_3\n"
   ]
  },
  {
   "cell_type": "markdown",
   "metadata": {},
   "source": [
    "# Saving into CSV file"
   ]
  },
  {
   "cell_type": "code",
   "execution_count": 9,
   "metadata": {},
   "outputs": [],
   "source": [
    "lookalike_df = pd.DataFrame({\n",
    "    'CustomerID': list(lookalikes.keys()),\n",
    "    'Lookalikes': [str(val) for val in lookalikes.values()]\n",
    "})\n",
    "lookalike_df.to_csv('Aranyak_Banerjee_Lookalike.csv', index=False)\n"
   ]
  }
 ],
 "metadata": {
  "kernelspec": {
   "display_name": "Python 3",
   "language": "python",
   "name": "python3"
  },
  "language_info": {
   "codemirror_mode": {
    "name": "ipython",
    "version": 3
   },
   "file_extension": ".py",
   "mimetype": "text/x-python",
   "name": "python",
   "nbconvert_exporter": "python",
   "pygments_lexer": "ipython3",
   "version": "3.11.4"
  }
 },
 "nbformat": 4,
 "nbformat_minor": 2
}
